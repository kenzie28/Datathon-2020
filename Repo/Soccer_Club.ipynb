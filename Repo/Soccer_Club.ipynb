{
  "nbformat": 4,
  "nbformat_minor": 0,
  "metadata": {
    "colab": {
      "name": "Soccer Club",
      "provenance": []
    },
    "kernelspec": {
      "name": "python3",
      "display_name": "Python 3"
    }
  },
  "cells": [
    {
      "cell_type": "markdown",
      "metadata": {
        "id": "RkV_JqPNDJ8c",
        "colab_type": "text"
      },
      "source": [
        "# **To what extent and accuracy can we predict the growth of a player based on the team and league they are a part of?**"
      ]
    },
    {
      "cell_type": "markdown",
      "metadata": {
        "id": "BquZPDLymXKO",
        "colab_type": "text"
      },
      "source": [
        "Mount google drive."
      ]
    },
    {
      "cell_type": "code",
      "metadata": {
        "id": "UyYT8H3dHV0M",
        "colab_type": "code",
        "colab": {
          "base_uri": "https://localhost:8080/",
          "height": 50
        },
        "outputId": "b0a0839e-014d-4536-b2b9-8b32d417e9e8"
      },
      "source": [
        "from google.colab import drive\n",
        "\n",
        "drive.mount('/content/drive')\n",
        "%cd /content/drive/My\\ Drive/Colab\\ Notebooks/"
      ],
      "execution_count": 83,
      "outputs": [
        {
          "output_type": "stream",
          "text": [
            "Drive already mounted at /content/drive; to attempt to forcibly remount, call drive.mount(\"/content/drive\", force_remount=True).\n",
            "/content/drive/My Drive/Colab Notebooks\n"
          ],
          "name": "stdout"
        }
      ]
    },
    {
      "cell_type": "markdown",
      "metadata": {
        "id": "XmaKxgZQl7tE",
        "colab_type": "text"
      },
      "source": [
        "Import Cleaned Data.\n",
        "\n",
        "Since the statistics between goalies and other positions are so different, we are splitting our training data into goalie and other player positions. "
      ]
    },
    {
      "cell_type": "code",
      "metadata": {
        "id": "40S_N95MDNy8",
        "colab_type": "code",
        "colab": {}
      },
      "source": [
        "import pandas as pd \n",
        "\n",
        "goalie = pd.read_csv('refined_goalies.csv')\n",
        "player = pd.read_csv('refined_players.csv')"
      ],
      "execution_count": 0,
      "outputs": []
    },
    {
      "cell_type": "markdown",
      "metadata": {
        "id": "KkquXlDdxZ0f",
        "colab_type": "text"
      },
      "source": [
        "Glance at data format."
      ]
    },
    {
      "cell_type": "code",
      "metadata": {
        "id": "AY0Tz_WOxg0f",
        "colab_type": "code",
        "colab": {
          "base_uri": "https://localhost:8080/",
          "height": 195
        },
        "outputId": "55374e81-7cee-433a-ccff-9587f68a9870"
      },
      "source": [
        "goalie.head()"
      ],
      "execution_count": 85,
      "outputs": [
        {
          "output_type": "execute_result",
          "data": {
            "text/html": [
              "<div>\n",
              "<style scoped>\n",
              "    .dataframe tbody tr th:only-of-type {\n",
              "        vertical-align: middle;\n",
              "    }\n",
              "\n",
              "    .dataframe tbody tr th {\n",
              "        vertical-align: top;\n",
              "    }\n",
              "\n",
              "    .dataframe thead th {\n",
              "        text-align: right;\n",
              "    }\n",
              "</style>\n",
              "<table border=\"1\" class=\"dataframe\">\n",
              "  <thead>\n",
              "    <tr style=\"text-align: right;\">\n",
              "      <th></th>\n",
              "      <th>Unnamed: 0</th>\n",
              "      <th>sofifa_id</th>\n",
              "      <th>club</th>\n",
              "      <th>overall</th>\n",
              "      <th>age</th>\n",
              "      <th>gk_diving</th>\n",
              "      <th>gk_handling</th>\n",
              "      <th>gk_kicking</th>\n",
              "      <th>gk_reflexes</th>\n",
              "      <th>gk_speed</th>\n",
              "      <th>gk_positioning</th>\n",
              "      <th>predicted_growth</th>\n",
              "      <th>year</th>\n",
              "      <th>actual_growth</th>\n",
              "    </tr>\n",
              "  </thead>\n",
              "  <tbody>\n",
              "    <tr>\n",
              "      <th>0</th>\n",
              "      <td>0</td>\n",
              "      <td>167495</td>\n",
              "      <td>FC Bayern München</td>\n",
              "      <td>3.202943</td>\n",
              "      <td>0.335843</td>\n",
              "      <td>2.618522</td>\n",
              "      <td>2.711699</td>\n",
              "      <td>3.758156</td>\n",
              "      <td>2.221370</td>\n",
              "      <td>1.891575</td>\n",
              "      <td>3.004741</td>\n",
              "      <td>-0.905412</td>\n",
              "      <td>15</td>\n",
              "      <td>0</td>\n",
              "    </tr>\n",
              "    <tr>\n",
              "      <th>1</th>\n",
              "      <td>1</td>\n",
              "      <td>192119</td>\n",
              "      <td>Chelsea</td>\n",
              "      <td>2.679073</td>\n",
              "      <td>-0.814604</td>\n",
              "      <td>2.234057</td>\n",
              "      <td>2.965569</td>\n",
              "      <td>0.861386</td>\n",
              "      <td>2.462583</td>\n",
              "      <td>0.796741</td>\n",
              "      <td>2.541218</td>\n",
              "      <td>-0.121640</td>\n",
              "      <td>15</td>\n",
              "      <td>0</td>\n",
              "    </tr>\n",
              "    <tr>\n",
              "      <th>2</th>\n",
              "      <td>2</td>\n",
              "      <td>167948</td>\n",
              "      <td>Tottenham Hotspur</td>\n",
              "      <td>2.548106</td>\n",
              "      <td>0.144102</td>\n",
              "      <td>2.490367</td>\n",
              "      <td>2.203959</td>\n",
              "      <td>1.113279</td>\n",
              "      <td>2.462583</td>\n",
              "      <td>2.289696</td>\n",
              "      <td>1.961815</td>\n",
              "      <td>-0.709469</td>\n",
              "      <td>15</td>\n",
              "      <td>0</td>\n",
              "    </tr>\n",
              "    <tr>\n",
              "      <th>3</th>\n",
              "      <td>3</td>\n",
              "      <td>48940</td>\n",
              "      <td>Chelsea</td>\n",
              "      <td>2.548106</td>\n",
              "      <td>1.102808</td>\n",
              "      <td>2.105902</td>\n",
              "      <td>2.584764</td>\n",
              "      <td>1.365172</td>\n",
              "      <td>1.980158</td>\n",
              "      <td>0.796741</td>\n",
              "      <td>2.193576</td>\n",
              "      <td>-0.905412</td>\n",
              "      <td>15</td>\n",
              "      <td>0</td>\n",
              "    </tr>\n",
              "    <tr>\n",
              "      <th>4</th>\n",
              "      <td>4</td>\n",
              "      <td>168435</td>\n",
              "      <td>Paris Saint-Germain</td>\n",
              "      <td>2.417138</td>\n",
              "      <td>0.144102</td>\n",
              "      <td>2.362212</td>\n",
              "      <td>1.950089</td>\n",
              "      <td>1.365172</td>\n",
              "      <td>2.341977</td>\n",
              "      <td>0.995802</td>\n",
              "      <td>2.309457</td>\n",
              "      <td>-0.709469</td>\n",
              "      <td>15</td>\n",
              "      <td>-2</td>\n",
              "    </tr>\n",
              "  </tbody>\n",
              "</table>\n",
              "</div>"
            ],
            "text/plain": [
              "   Unnamed: 0  sofifa_id  ... year  actual_growth\n",
              "0           0     167495  ...   15              0\n",
              "1           1     192119  ...   15              0\n",
              "2           2     167948  ...   15              0\n",
              "3           3      48940  ...   15              0\n",
              "4           4     168435  ...   15             -2\n",
              "\n",
              "[5 rows x 14 columns]"
            ]
          },
          "metadata": {
            "tags": []
          },
          "execution_count": 85
        }
      ]
    },
    {
      "cell_type": "code",
      "metadata": {
        "id": "BalS_ib-xg_u",
        "colab_type": "code",
        "colab": {
          "base_uri": "https://localhost:8080/",
          "height": 313
        },
        "outputId": "a0571194-6a85-4dee-f4a7-321e8fa89c23"
      },
      "source": [
        "player.head()"
      ],
      "execution_count": 86,
      "outputs": [
        {
          "output_type": "execute_result",
          "data": {
            "text/html": [
              "<div>\n",
              "<style scoped>\n",
              "    .dataframe tbody tr th:only-of-type {\n",
              "        vertical-align: middle;\n",
              "    }\n",
              "\n",
              "    .dataframe tbody tr th {\n",
              "        vertical-align: top;\n",
              "    }\n",
              "\n",
              "    .dataframe thead th {\n",
              "        text-align: right;\n",
              "    }\n",
              "</style>\n",
              "<table border=\"1\" class=\"dataframe\">\n",
              "  <thead>\n",
              "    <tr style=\"text-align: right;\">\n",
              "      <th></th>\n",
              "      <th>Unnamed: 0</th>\n",
              "      <th>sofifa_id</th>\n",
              "      <th>club</th>\n",
              "      <th>overall</th>\n",
              "      <th>age</th>\n",
              "      <th>player_positions</th>\n",
              "      <th>skill_moves</th>\n",
              "      <th>pace</th>\n",
              "      <th>shooting</th>\n",
              "      <th>passing</th>\n",
              "      <th>dribbling</th>\n",
              "      <th>defending</th>\n",
              "      <th>physic</th>\n",
              "      <th>predicted_growth</th>\n",
              "      <th>year</th>\n",
              "      <th>actual_growth</th>\n",
              "    </tr>\n",
              "  </thead>\n",
              "  <tbody>\n",
              "    <tr>\n",
              "      <th>0</th>\n",
              "      <td>0</td>\n",
              "      <td>158023</td>\n",
              "      <td>FC Barcelona</td>\n",
              "      <td>3.783296</td>\n",
              "      <td>0.486906</td>\n",
              "      <td>CF</td>\n",
              "      <td>2.379525</td>\n",
              "      <td>2.187743</td>\n",
              "      <td>2.566249</td>\n",
              "      <td>2.662503</td>\n",
              "      <td>3.151238</td>\n",
              "      <td>-1.469820</td>\n",
              "      <td>-0.283486</td>\n",
              "      <td>-0.579009</td>\n",
              "      <td>15</td>\n",
              "      <td>1</td>\n",
              "    </tr>\n",
              "    <tr>\n",
              "      <th>1</th>\n",
              "      <td>1</td>\n",
              "      <td>20801</td>\n",
              "      <td>Real Madrid</td>\n",
              "      <td>3.637927</td>\n",
              "      <td>0.948639</td>\n",
              "      <td>LW, LM</td>\n",
              "      <td>3.975020</td>\n",
              "      <td>2.187743</td>\n",
              "      <td>2.850949</td>\n",
              "      <td>2.189643</td>\n",
              "      <td>2.675592</td>\n",
              "      <td>-1.174914</td>\n",
              "      <td>1.386015</td>\n",
              "      <td>-0.975286</td>\n",
              "      <td>15</td>\n",
              "      <td>1</td>\n",
              "    </tr>\n",
              "    <tr>\n",
              "      <th>2</th>\n",
              "      <td>2</td>\n",
              "      <td>9014</td>\n",
              "      <td>FC Bayern München</td>\n",
              "      <td>3.347187</td>\n",
              "      <td>1.179505</td>\n",
              "      <td>RM, LM, RW</td>\n",
              "      <td>2.379525</td>\n",
              "      <td>2.187743</td>\n",
              "      <td>2.352724</td>\n",
              "      <td>2.378787</td>\n",
              "      <td>2.770721</td>\n",
              "      <td>-1.174914</td>\n",
              "      <td>-0.179142</td>\n",
              "      <td>-0.975286</td>\n",
              "      <td>15</td>\n",
              "      <td>0</td>\n",
              "    </tr>\n",
              "    <tr>\n",
              "      <th>3</th>\n",
              "      <td>3</td>\n",
              "      <td>41236</td>\n",
              "      <td>Paris Saint-Germain</td>\n",
              "      <td>3.347187</td>\n",
              "      <td>1.641238</td>\n",
              "      <td>ST</td>\n",
              "      <td>2.379525</td>\n",
              "      <td>0.654661</td>\n",
              "      <td>2.708599</td>\n",
              "      <td>2.189643</td>\n",
              "      <td>2.199947</td>\n",
              "      <td>-1.056951</td>\n",
              "      <td>2.116421</td>\n",
              "      <td>-0.975286</td>\n",
              "      <td>15</td>\n",
              "      <td>-1</td>\n",
              "    </tr>\n",
              "    <tr>\n",
              "      <th>4</th>\n",
              "      <td>4</td>\n",
              "      <td>176580</td>\n",
              "      <td>FC Barcelona</td>\n",
              "      <td>3.201817</td>\n",
              "      <td>0.486906</td>\n",
              "      <td>ST, CF</td>\n",
              "      <td>2.379525</td>\n",
              "      <td>1.285930</td>\n",
              "      <td>2.423899</td>\n",
              "      <td>2.000500</td>\n",
              "      <td>2.390205</td>\n",
              "      <td>-0.585100</td>\n",
              "      <td>1.386015</td>\n",
              "      <td>-0.579009</td>\n",
              "      <td>15</td>\n",
              "      <td>1</td>\n",
              "    </tr>\n",
              "  </tbody>\n",
              "</table>\n",
              "</div>"
            ],
            "text/plain": [
              "   Unnamed: 0  sofifa_id  ... year  actual_growth\n",
              "0           0     158023  ...   15              1\n",
              "1           1      20801  ...   15              1\n",
              "2           2       9014  ...   15              0\n",
              "3           3      41236  ...   15             -1\n",
              "4           4     176580  ...   15              1\n",
              "\n",
              "[5 rows x 16 columns]"
            ]
          },
          "metadata": {
            "tags": []
          },
          "execution_count": 86
        }
      ]
    },
    {
      "cell_type": "code",
      "metadata": {
        "id": "UG2pqalfxZpL",
        "colab_type": "code",
        "colab": {
          "base_uri": "https://localhost:8080/",
          "height": 353
        },
        "outputId": "b2d06145-8fcb-4789-b14f-676121091c3f"
      },
      "source": [
        "print(goalie.info())"
      ],
      "execution_count": 87,
      "outputs": [
        {
          "output_type": "stream",
          "text": [
            "<class 'pandas.core.frame.DataFrame'>\n",
            "RangeIndex: 8581 entries, 0 to 8580\n",
            "Data columns (total 14 columns):\n",
            "Unnamed: 0          8581 non-null int64\n",
            "sofifa_id           8581 non-null int64\n",
            "club                8581 non-null object\n",
            "overall             8581 non-null float64\n",
            "age                 8581 non-null float64\n",
            "gk_diving           8581 non-null float64\n",
            "gk_handling         8581 non-null float64\n",
            "gk_kicking          8581 non-null float64\n",
            "gk_reflexes         8581 non-null float64\n",
            "gk_speed            8581 non-null float64\n",
            "gk_positioning      8581 non-null float64\n",
            "predicted_growth    8581 non-null float64\n",
            "year                8581 non-null int64\n",
            "actual_growth       8581 non-null int64\n",
            "dtypes: float64(9), int64(4), object(1)\n",
            "memory usage: 938.7+ KB\n",
            "None\n"
          ],
          "name": "stdout"
        }
      ]
    },
    {
      "cell_type": "code",
      "metadata": {
        "id": "2_dVCumxyjcw",
        "colab_type": "code",
        "colab": {
          "base_uri": "https://localhost:8080/",
          "height": 386
        },
        "outputId": "dbad792c-8ce1-45a3-ddaf-243e563800e9"
      },
      "source": [
        "print(player.info())"
      ],
      "execution_count": 88,
      "outputs": [
        {
          "output_type": "stream",
          "text": [
            "<class 'pandas.core.frame.DataFrame'>\n",
            "RangeIndex: 69096 entries, 0 to 69095\n",
            "Data columns (total 16 columns):\n",
            "Unnamed: 0          69096 non-null int64\n",
            "sofifa_id           69096 non-null int64\n",
            "club                69096 non-null object\n",
            "overall             69096 non-null float64\n",
            "age                 69096 non-null float64\n",
            "player_positions    69096 non-null object\n",
            "skill_moves         69096 non-null float64\n",
            "pace                69096 non-null float64\n",
            "shooting            69096 non-null float64\n",
            "passing             69096 non-null float64\n",
            "dribbling           69096 non-null float64\n",
            "defending           69096 non-null float64\n",
            "physic              69096 non-null float64\n",
            "predicted_growth    69096 non-null float64\n",
            "year                69096 non-null int64\n",
            "actual_growth       69096 non-null int64\n",
            "dtypes: float64(10), int64(4), object(2)\n",
            "memory usage: 8.4+ MB\n",
            "None\n"
          ],
          "name": "stdout"
        }
      ]
    },
    {
      "cell_type": "markdown",
      "metadata": {
        "id": "C5_gm4uEPRRp",
        "colab_type": "text"
      },
      "source": [
        "Convert all object data columns to categorical/one-hot data dummy columns and drop sofifa ID because the specific player should not matter in this regression problem. Also get rid of the row number identifier because the dataframe comes with a built in row identifier and the row number should not be necessary in the regression problem."
      ]
    },
    {
      "cell_type": "code",
      "metadata": {
        "id": "NDfO6yEGzCMw",
        "colab_type": "code",
        "colab": {}
      },
      "source": [
        "from pandas import get_dummies\n",
        "\n",
        "def all_categorical(data):\n",
        "    object_columns = []\n",
        "    for column in data:\n",
        "        if data[column].dtype == object:\n",
        "            object_columns.append(column)\n",
        "    new_data = get_dummies(data, columns=object_columns)\n",
        "    return new_data\n",
        "  \n",
        "player = all_categorical(player)\n",
        "player = player.drop(['sofifa_id', 'Unnamed: 0'], axis=1)\n",
        "goalie = all_categorical(goalie)\n",
        "goalie = goalie.drop(['sofifa_id', 'Unnamed: 0'], axis=1)"
      ],
      "execution_count": 0,
      "outputs": []
    },
    {
      "cell_type": "markdown",
      "metadata": {
        "id": "8HA7IdKbCP-x",
        "colab_type": "text"
      },
      "source": [
        "Find which numerical features actually matter in the regression problem with the pearson correlation."
      ]
    },
    {
      "cell_type": "code",
      "metadata": {
        "id": "bfsnKVdj1wjU",
        "colab_type": "code",
        "colab": {}
      },
      "source": [
        "import seaborn as sns\n",
        "%matplotlib inline\n",
        "\n",
        "proxy_goalie = goalie[['actual_growth', 'predicted_growth', 'overall', 'age',\t'gk_diving',\t'gk_handling',\t'gk_kicking',\t'gk_reflexes',\t'gk_speed', 'gk_positioning',\t'year']].copy()\n",
        "proxy_player = player[['actual_growth', 'predicted_growth', 'overall',\t'age',\t'skill_moves',\t'pace',\t'shooting', 'passing', 'dribbling', 'defending',\t'physic',\t'year',\t]].copy()\n",
        "\n",
        "cor_matrix_goalie = proxy_goalie.corr()\n",
        "cor_matrix_player = proxy_player.corr()"
      ],
      "execution_count": 0,
      "outputs": []
    },
    {
      "cell_type": "code",
      "metadata": {
        "id": "Dm9J3rJj_77h",
        "colab_type": "code",
        "colab": {
          "base_uri": "https://localhost:8080/",
          "height": 373
        },
        "outputId": "1c6c5acf-bd10-413c-e01e-5a50e172bf1b"
      },
      "source": [
        "cor_matrix_goalie"
      ],
      "execution_count": 91,
      "outputs": [
        {
          "output_type": "execute_result",
          "data": {
            "text/html": [
              "<div>\n",
              "<style scoped>\n",
              "    .dataframe tbody tr th:only-of-type {\n",
              "        vertical-align: middle;\n",
              "    }\n",
              "\n",
              "    .dataframe tbody tr th {\n",
              "        vertical-align: top;\n",
              "    }\n",
              "\n",
              "    .dataframe thead th {\n",
              "        text-align: right;\n",
              "    }\n",
              "</style>\n",
              "<table border=\"1\" class=\"dataframe\">\n",
              "  <thead>\n",
              "    <tr style=\"text-align: right;\">\n",
              "      <th></th>\n",
              "      <th>actual_growth</th>\n",
              "      <th>predicted_growth</th>\n",
              "      <th>overall</th>\n",
              "      <th>age</th>\n",
              "      <th>gk_diving</th>\n",
              "      <th>gk_handling</th>\n",
              "      <th>gk_kicking</th>\n",
              "      <th>gk_reflexes</th>\n",
              "      <th>gk_speed</th>\n",
              "      <th>gk_positioning</th>\n",
              "      <th>year</th>\n",
              "    </tr>\n",
              "  </thead>\n",
              "  <tbody>\n",
              "    <tr>\n",
              "      <th>actual_growth</th>\n",
              "      <td>1.000000</td>\n",
              "      <td>0.223470</td>\n",
              "      <td>-0.263216</td>\n",
              "      <td>-0.262318</td>\n",
              "      <td>-0.216453</td>\n",
              "      <td>-0.250132</td>\n",
              "      <td>-0.192233</td>\n",
              "      <td>-0.215507</td>\n",
              "      <td>-0.012190</td>\n",
              "      <td>-0.263653</td>\n",
              "      <td>-0.227743</td>\n",
              "    </tr>\n",
              "    <tr>\n",
              "      <th>predicted_growth</th>\n",
              "      <td>0.223470</td>\n",
              "      <td>1.000000</td>\n",
              "      <td>-0.534030</td>\n",
              "      <td>-0.855534</td>\n",
              "      <td>-0.461805</td>\n",
              "      <td>-0.477288</td>\n",
              "      <td>-0.414600</td>\n",
              "      <td>-0.461023</td>\n",
              "      <td>-0.264693</td>\n",
              "      <td>-0.558632</td>\n",
              "      <td>0.104562</td>\n",
              "    </tr>\n",
              "    <tr>\n",
              "      <th>overall</th>\n",
              "      <td>-0.263216</td>\n",
              "      <td>-0.534030</td>\n",
              "      <td>1.000000</td>\n",
              "      <td>0.484595</td>\n",
              "      <td>0.931615</td>\n",
              "      <td>0.915082</td>\n",
              "      <td>0.761280</td>\n",
              "      <td>0.930723</td>\n",
              "      <td>0.361435</td>\n",
              "      <td>0.931779</td>\n",
              "      <td>-0.007324</td>\n",
              "    </tr>\n",
              "    <tr>\n",
              "      <th>age</th>\n",
              "      <td>-0.262318</td>\n",
              "      <td>-0.855534</td>\n",
              "      <td>0.484595</td>\n",
              "      <td>1.000000</td>\n",
              "      <td>0.399777</td>\n",
              "      <td>0.447785</td>\n",
              "      <td>0.368675</td>\n",
              "      <td>0.383859</td>\n",
              "      <td>0.173019</td>\n",
              "      <td>0.531981</td>\n",
              "      <td>-0.001016</td>\n",
              "    </tr>\n",
              "    <tr>\n",
              "      <th>gk_diving</th>\n",
              "      <td>-0.216453</td>\n",
              "      <td>-0.461805</td>\n",
              "      <td>0.931615</td>\n",
              "      <td>0.399777</td>\n",
              "      <td>1.000000</td>\n",
              "      <td>0.794179</td>\n",
              "      <td>0.683776</td>\n",
              "      <td>0.899793</td>\n",
              "      <td>0.380668</td>\n",
              "      <td>0.810327</td>\n",
              "      <td>-0.064696</td>\n",
              "    </tr>\n",
              "    <tr>\n",
              "      <th>gk_handling</th>\n",
              "      <td>-0.250132</td>\n",
              "      <td>-0.477288</td>\n",
              "      <td>0.915082</td>\n",
              "      <td>0.447785</td>\n",
              "      <td>0.794179</td>\n",
              "      <td>1.000000</td>\n",
              "      <td>0.704322</td>\n",
              "      <td>0.786131</td>\n",
              "      <td>0.272803</td>\n",
              "      <td>0.857754</td>\n",
              "      <td>0.009729</td>\n",
              "    </tr>\n",
              "    <tr>\n",
              "      <th>gk_kicking</th>\n",
              "      <td>-0.192233</td>\n",
              "      <td>-0.414600</td>\n",
              "      <td>0.761280</td>\n",
              "      <td>0.368675</td>\n",
              "      <td>0.683776</td>\n",
              "      <td>0.704322</td>\n",
              "      <td>1.000000</td>\n",
              "      <td>0.674148</td>\n",
              "      <td>0.278961</td>\n",
              "      <td>0.698685</td>\n",
              "      <td>0.020653</td>\n",
              "    </tr>\n",
              "    <tr>\n",
              "      <th>gk_reflexes</th>\n",
              "      <td>-0.215507</td>\n",
              "      <td>-0.461023</td>\n",
              "      <td>0.930723</td>\n",
              "      <td>0.383859</td>\n",
              "      <td>0.899793</td>\n",
              "      <td>0.786131</td>\n",
              "      <td>0.674148</td>\n",
              "      <td>1.000000</td>\n",
              "      <td>0.371669</td>\n",
              "      <td>0.814086</td>\n",
              "      <td>-0.078306</td>\n",
              "    </tr>\n",
              "    <tr>\n",
              "      <th>gk_speed</th>\n",
              "      <td>-0.012190</td>\n",
              "      <td>-0.264693</td>\n",
              "      <td>0.361435</td>\n",
              "      <td>0.173019</td>\n",
              "      <td>0.380668</td>\n",
              "      <td>0.272803</td>\n",
              "      <td>0.278961</td>\n",
              "      <td>0.371669</td>\n",
              "      <td>1.000000</td>\n",
              "      <td>0.305744</td>\n",
              "      <td>-0.241635</td>\n",
              "    </tr>\n",
              "    <tr>\n",
              "      <th>gk_positioning</th>\n",
              "      <td>-0.263653</td>\n",
              "      <td>-0.558632</td>\n",
              "      <td>0.931779</td>\n",
              "      <td>0.531981</td>\n",
              "      <td>0.810327</td>\n",
              "      <td>0.857754</td>\n",
              "      <td>0.698685</td>\n",
              "      <td>0.814086</td>\n",
              "      <td>0.305744</td>\n",
              "      <td>1.000000</td>\n",
              "      <td>-0.014438</td>\n",
              "    </tr>\n",
              "    <tr>\n",
              "      <th>year</th>\n",
              "      <td>-0.227743</td>\n",
              "      <td>0.104562</td>\n",
              "      <td>-0.007324</td>\n",
              "      <td>-0.001016</td>\n",
              "      <td>-0.064696</td>\n",
              "      <td>0.009729</td>\n",
              "      <td>0.020653</td>\n",
              "      <td>-0.078306</td>\n",
              "      <td>-0.241635</td>\n",
              "      <td>-0.014438</td>\n",
              "      <td>1.000000</td>\n",
              "    </tr>\n",
              "  </tbody>\n",
              "</table>\n",
              "</div>"
            ],
            "text/plain": [
              "                  actual_growth  predicted_growth  ...  gk_positioning      year\n",
              "actual_growth          1.000000          0.223470  ...       -0.263653 -0.227743\n",
              "predicted_growth       0.223470          1.000000  ...       -0.558632  0.104562\n",
              "overall               -0.263216         -0.534030  ...        0.931779 -0.007324\n",
              "age                   -0.262318         -0.855534  ...        0.531981 -0.001016\n",
              "gk_diving             -0.216453         -0.461805  ...        0.810327 -0.064696\n",
              "gk_handling           -0.250132         -0.477288  ...        0.857754  0.009729\n",
              "gk_kicking            -0.192233         -0.414600  ...        0.698685  0.020653\n",
              "gk_reflexes           -0.215507         -0.461023  ...        0.814086 -0.078306\n",
              "gk_speed              -0.012190         -0.264693  ...        0.305744 -0.241635\n",
              "gk_positioning        -0.263653         -0.558632  ...        1.000000 -0.014438\n",
              "year                  -0.227743          0.104562  ...       -0.014438  1.000000\n",
              "\n",
              "[11 rows x 11 columns]"
            ]
          },
          "metadata": {
            "tags": []
          },
          "execution_count": 91
        }
      ]
    },
    {
      "cell_type": "code",
      "metadata": {
        "id": "3xVTHjqQ68HH",
        "colab_type": "code",
        "colab": {
          "base_uri": "https://localhost:8080/",
          "height": 402
        },
        "outputId": "7ffa05cf-7817-470f-d24c-337bd8db8f62"
      },
      "source": [
        "cor_matrix_player"
      ],
      "execution_count": 92,
      "outputs": [
        {
          "output_type": "execute_result",
          "data": {
            "text/html": [
              "<div>\n",
              "<style scoped>\n",
              "    .dataframe tbody tr th:only-of-type {\n",
              "        vertical-align: middle;\n",
              "    }\n",
              "\n",
              "    .dataframe tbody tr th {\n",
              "        vertical-align: top;\n",
              "    }\n",
              "\n",
              "    .dataframe thead th {\n",
              "        text-align: right;\n",
              "    }\n",
              "</style>\n",
              "<table border=\"1\" class=\"dataframe\">\n",
              "  <thead>\n",
              "    <tr style=\"text-align: right;\">\n",
              "      <th></th>\n",
              "      <th>actual_growth</th>\n",
              "      <th>predicted_growth</th>\n",
              "      <th>overall</th>\n",
              "      <th>age</th>\n",
              "      <th>skill_moves</th>\n",
              "      <th>pace</th>\n",
              "      <th>shooting</th>\n",
              "      <th>passing</th>\n",
              "      <th>dribbling</th>\n",
              "      <th>defending</th>\n",
              "      <th>physic</th>\n",
              "      <th>year</th>\n",
              "    </tr>\n",
              "  </thead>\n",
              "  <tbody>\n",
              "    <tr>\n",
              "      <th>actual_growth</th>\n",
              "      <td>1.000000</td>\n",
              "      <td>0.284499</td>\n",
              "      <td>-0.335919</td>\n",
              "      <td>-0.307164</td>\n",
              "      <td>-0.095021</td>\n",
              "      <td>-0.011429</td>\n",
              "      <td>-0.158719</td>\n",
              "      <td>-0.209740</td>\n",
              "      <td>-0.167487</td>\n",
              "      <td>-0.098171</td>\n",
              "      <td>-0.188072</td>\n",
              "      <td>-0.283976</td>\n",
              "    </tr>\n",
              "    <tr>\n",
              "      <th>predicted_growth</th>\n",
              "      <td>0.284499</td>\n",
              "      <td>1.000000</td>\n",
              "      <td>-0.500544</td>\n",
              "      <td>-0.864198</td>\n",
              "      <td>-0.107576</td>\n",
              "      <td>0.062920</td>\n",
              "      <td>-0.245525</td>\n",
              "      <td>-0.340113</td>\n",
              "      <td>-0.195452</td>\n",
              "      <td>-0.237225</td>\n",
              "      <td>-0.455937</td>\n",
              "      <td>0.051897</td>\n",
              "    </tr>\n",
              "    <tr>\n",
              "      <th>overall</th>\n",
              "      <td>-0.335919</td>\n",
              "      <td>-0.500544</td>\n",
              "      <td>1.000000</td>\n",
              "      <td>0.446806</td>\n",
              "      <td>0.370280</td>\n",
              "      <td>0.181318</td>\n",
              "      <td>0.476998</td>\n",
              "      <td>0.661018</td>\n",
              "      <td>0.577293</td>\n",
              "      <td>0.297993</td>\n",
              "      <td>0.489627</td>\n",
              "      <td>0.030128</td>\n",
              "    </tr>\n",
              "    <tr>\n",
              "      <th>age</th>\n",
              "      <td>-0.307164</td>\n",
              "      <td>-0.864198</td>\n",
              "      <td>0.446806</td>\n",
              "      <td>1.000000</td>\n",
              "      <td>0.069819</td>\n",
              "      <td>-0.192684</td>\n",
              "      <td>0.213582</td>\n",
              "      <td>0.308637</td>\n",
              "      <td>0.132512</td>\n",
              "      <td>0.249613</td>\n",
              "      <td>0.418507</td>\n",
              "      <td>0.045892</td>\n",
              "    </tr>\n",
              "    <tr>\n",
              "      <th>skill_moves</th>\n",
              "      <td>-0.095021</td>\n",
              "      <td>-0.107576</td>\n",
              "      <td>0.370280</td>\n",
              "      <td>0.069819</td>\n",
              "      <td>1.000000</td>\n",
              "      <td>0.405660</td>\n",
              "      <td>0.582253</td>\n",
              "      <td>0.505854</td>\n",
              "      <td>0.642463</td>\n",
              "      <td>-0.352154</td>\n",
              "      <td>-0.180863</td>\n",
              "      <td>0.060408</td>\n",
              "    </tr>\n",
              "    <tr>\n",
              "      <th>pace</th>\n",
              "      <td>-0.011429</td>\n",
              "      <td>0.062920</td>\n",
              "      <td>0.181318</td>\n",
              "      <td>-0.192684</td>\n",
              "      <td>0.405660</td>\n",
              "      <td>1.000000</td>\n",
              "      <td>0.365150</td>\n",
              "      <td>0.297148</td>\n",
              "      <td>0.566105</td>\n",
              "      <td>-0.309671</td>\n",
              "      <td>-0.190326</td>\n",
              "      <td>-0.049459</td>\n",
              "    </tr>\n",
              "    <tr>\n",
              "      <th>shooting</th>\n",
              "      <td>-0.158719</td>\n",
              "      <td>-0.245525</td>\n",
              "      <td>0.476998</td>\n",
              "      <td>0.213582</td>\n",
              "      <td>0.582253</td>\n",
              "      <td>0.365150</td>\n",
              "      <td>1.000000</td>\n",
              "      <td>0.644237</td>\n",
              "      <td>0.766261</td>\n",
              "      <td>-0.448397</td>\n",
              "      <td>-0.022963</td>\n",
              "      <td>-0.013512</td>\n",
              "    </tr>\n",
              "    <tr>\n",
              "      <th>passing</th>\n",
              "      <td>-0.209740</td>\n",
              "      <td>-0.340113</td>\n",
              "      <td>0.661018</td>\n",
              "      <td>0.308637</td>\n",
              "      <td>0.505854</td>\n",
              "      <td>0.297148</td>\n",
              "      <td>0.644237</td>\n",
              "      <td>1.000000</td>\n",
              "      <td>0.815497</td>\n",
              "      <td>0.102180</td>\n",
              "      <td>0.106676</td>\n",
              "      <td>-0.005330</td>\n",
              "    </tr>\n",
              "    <tr>\n",
              "      <th>dribbling</th>\n",
              "      <td>-0.167487</td>\n",
              "      <td>-0.195452</td>\n",
              "      <td>0.577293</td>\n",
              "      <td>0.132512</td>\n",
              "      <td>0.642463</td>\n",
              "      <td>0.566105</td>\n",
              "      <td>0.766261</td>\n",
              "      <td>0.815497</td>\n",
              "      <td>1.000000</td>\n",
              "      <td>-0.233600</td>\n",
              "      <td>-0.082133</td>\n",
              "      <td>0.013763</td>\n",
              "    </tr>\n",
              "    <tr>\n",
              "      <th>defending</th>\n",
              "      <td>-0.098171</td>\n",
              "      <td>-0.237225</td>\n",
              "      <td>0.297993</td>\n",
              "      <td>0.249613</td>\n",
              "      <td>-0.352154</td>\n",
              "      <td>-0.309671</td>\n",
              "      <td>-0.448397</td>\n",
              "      <td>0.102180</td>\n",
              "      <td>-0.233600</td>\n",
              "      <td>1.000000</td>\n",
              "      <td>0.553547</td>\n",
              "      <td>0.004179</td>\n",
              "    </tr>\n",
              "    <tr>\n",
              "      <th>physic</th>\n",
              "      <td>-0.188072</td>\n",
              "      <td>-0.455937</td>\n",
              "      <td>0.489627</td>\n",
              "      <td>0.418507</td>\n",
              "      <td>-0.180863</td>\n",
              "      <td>-0.190326</td>\n",
              "      <td>-0.022963</td>\n",
              "      <td>0.106676</td>\n",
              "      <td>-0.082133</td>\n",
              "      <td>0.553547</td>\n",
              "      <td>1.000000</td>\n",
              "      <td>-0.033801</td>\n",
              "    </tr>\n",
              "    <tr>\n",
              "      <th>year</th>\n",
              "      <td>-0.283976</td>\n",
              "      <td>0.051897</td>\n",
              "      <td>0.030128</td>\n",
              "      <td>0.045892</td>\n",
              "      <td>0.060408</td>\n",
              "      <td>-0.049459</td>\n",
              "      <td>-0.013512</td>\n",
              "      <td>-0.005330</td>\n",
              "      <td>0.013763</td>\n",
              "      <td>0.004179</td>\n",
              "      <td>-0.033801</td>\n",
              "      <td>1.000000</td>\n",
              "    </tr>\n",
              "  </tbody>\n",
              "</table>\n",
              "</div>"
            ],
            "text/plain": [
              "                  actual_growth  predicted_growth  ...    physic      year\n",
              "actual_growth          1.000000          0.284499  ... -0.188072 -0.283976\n",
              "predicted_growth       0.284499          1.000000  ... -0.455937  0.051897\n",
              "overall               -0.335919         -0.500544  ...  0.489627  0.030128\n",
              "age                   -0.307164         -0.864198  ...  0.418507  0.045892\n",
              "skill_moves           -0.095021         -0.107576  ... -0.180863  0.060408\n",
              "pace                  -0.011429          0.062920  ... -0.190326 -0.049459\n",
              "shooting              -0.158719         -0.245525  ... -0.022963 -0.013512\n",
              "passing               -0.209740         -0.340113  ...  0.106676 -0.005330\n",
              "dribbling             -0.167487         -0.195452  ... -0.082133  0.013763\n",
              "defending             -0.098171         -0.237225  ...  0.553547  0.004179\n",
              "physic                -0.188072         -0.455937  ...  1.000000 -0.033801\n",
              "year                  -0.283976          0.051897  ... -0.033801  1.000000\n",
              "\n",
              "[12 rows x 12 columns]"
            ]
          },
          "metadata": {
            "tags": []
          },
          "execution_count": 92
        }
      ]
    },
    {
      "cell_type": "markdown",
      "metadata": {
        "id": "A2f6O-kJC7NH",
        "colab_type": "text"
      },
      "source": [
        "For goalie numerical data, gk speed has little correlation with actual growth so we get rid of that.\n",
        "For player numerical data, skill moves, defending, and pace have little to do with predicted growth so we also get rid of that."
      ]
    },
    {
      "cell_type": "code",
      "metadata": {
        "id": "x6E2O7STDPnM",
        "colab_type": "code",
        "colab": {}
      },
      "source": [
        "goalie = goalie.drop(['gk_speed'], axis=1)\n",
        "player = player.drop(['skill_moves', 'defending', 'pace'], axis=1)"
      ],
      "execution_count": 0,
      "outputs": []
    },
    {
      "cell_type": "markdown",
      "metadata": {
        "id": "1ZOKx2VyGDI3",
        "colab_type": "text"
      },
      "source": [
        "Remove actual growth and put into its one pandas dataframe."
      ]
    },
    {
      "cell_type": "code",
      "metadata": {
        "id": "gF5sfShRFu1c",
        "colab_type": "code",
        "colab": {}
      },
      "source": [
        "goalie_growth = goalie['actual_growth']\n",
        "player_growth = player['actual_growth']\n",
        "\n",
        "goalie = goalie.drop(['actual_growth'], axis=1)\n",
        "player = player.drop(['actual_growth'], axis=1)"
      ],
      "execution_count": 0,
      "outputs": []
    },
    {
      "cell_type": "markdown",
      "metadata": {
        "id": "6fsee2iiFYKX",
        "colab_type": "text"
      },
      "source": [
        "Linear Regression Model (Ordinary Least Squares)\n",
        "\n",
        "We test this model to see if there is somehow a linear relationship between our features and the data."
      ]
    },
    {
      "cell_type": "code",
      "metadata": {
        "id": "xnhDUtglFMbi",
        "colab_type": "code",
        "colab": {
          "base_uri": "https://localhost:8080/",
          "height": 50
        },
        "outputId": "0b312345-904d-4c89-8535-db8a3975a93b"
      },
      "source": [
        "from sklearn.metrics import mean_squared_error\n",
        "from math import sqrt\n",
        "from sklearn.model_selection import train_test_split\n",
        "from sklearn.linear_model import LinearRegression\n",
        "\n",
        "x_train, x_test, y_train, y_test = train_test_split(goalie, goalie_growth, test_size=0.2, random_state=10)\n",
        "\n",
        "Linear_Regression_Goalie = LinearRegression()\n",
        "Linear_Regression_Goalie.fit(x_train, y_train)\n",
        "y_predict = Linear_Regression_Goalie.predict(x_test)\n",
        "mse = mean_squared_error(y_test, y_predict)\n",
        "print(mse)\n",
        "\n",
        "x_train, x_test, y_train, y_test = train_test_split(player, player_growth, test_size=0.2, random_state=10)\n",
        "\n",
        "Linear_Regression_Player = LinearRegression()\n",
        "Linear_Regression_Player.fit(x_train, y_train)\n",
        "y_predict = Linear_Regression_Player.predict(x_test)\n",
        "mse = mean_squared_error(y_test, y_predict)\n",
        "print(mse)"
      ],
      "execution_count": 99,
      "outputs": [
        {
          "output_type": "stream",
          "text": [
            "7.392574599749646e+22\n",
            "4.9696987914286855e+22\n"
          ],
          "name": "stdout"
        }
      ]
    },
    {
      "cell_type": "markdown",
      "metadata": {
        "id": "FHhpdxq3I8Km",
        "colab_type": "text"
      },
      "source": [
        "Clearly, there is not a linear relationship; therefore, we decided to use a model that is more robust in dealing with non-linear data."
      ]
    },
    {
      "cell_type": "markdown",
      "metadata": {
        "id": "s4AQpXvdG7OV",
        "colab_type": "text"
      },
      "source": [
        "Random Forest Regression Model. Regression model that fits non-linear data fairly well. "
      ]
    },
    {
      "cell_type": "code",
      "metadata": {
        "id": "uzFjYrvNHDv9",
        "colab_type": "code",
        "colab": {
          "base_uri": "https://localhost:8080/",
          "height": 50
        },
        "outputId": "e3fea13c-8924-4bd6-d728-4ea6511a0061"
      },
      "source": [
        "from sklearn.metrics import mean_squared_error\n",
        "from math import sqrt\n",
        "from sklearn.model_selection import train_test_split\n",
        "from sklearn.ensemble import RandomForestRegressor\n",
        "\n",
        "x_train, x_test, y_train, y_test = train_test_split(goalie, goalie_growth, test_size=0.2, random_state=10)\n",
        "\n",
        "forest_goalie = RandomForestRegressor(n_estimators = 100)\n",
        "forest_goalie.fit(x_train, y_train)\n",
        "y_predict = forest_goalie.predict(x_test)\n",
        "mse = mean_squared_error(y_test, y_predict)\n",
        "print(mse)\n",
        "\n",
        "x_train, x_test, y_train, y_test = train_test_split(player, player_growth, test_size=0.2, random_state=10)\n",
        "\n",
        "forest_player = RandomForestRegressor(n_estimators = 100)\n",
        "forest_player.fit(x_train, y_train)\n",
        "y_predict = forest_player.predict(x_test)\n",
        "mse = mean_squared_error(y_test, y_predict)\n",
        "print(mse)"
      ],
      "execution_count": 100,
      "outputs": [
        {
          "output_type": "stream",
          "text": [
            "4.775639021549213\n",
            "4.22387510853835\n"
          ],
          "name": "stdout"
        }
      ]
    },
    {
      "cell_type": "markdown",
      "metadata": {
        "id": "IwyJEdH-OZxY",
        "colab_type": "text"
      },
      "source": [
        "Support Vector Regression. Regression model that fits well with high dimensional data (we have over 800 features due to one hot encoding all the categorical data) and is also robust at dealing with non-linear relationships."
      ]
    },
    {
      "cell_type": "code",
      "metadata": {
        "id": "dM9OAGY8OZ98",
        "colab_type": "code",
        "colab": {
          "base_uri": "https://localhost:8080/",
          "height": 34
        },
        "outputId": "1ddbc3ef-113b-464d-8b72-476a4536fbab"
      },
      "source": [
        "from math import sqrt\n",
        "from sklearn.model_selection import train_test_split\n",
        "from sklearn.svm import SVR\n",
        "\n",
        "x_train, x_test, y_train, y_test = train_test_split(goalie, goalie_growth, test_size=0.2, random_state=10)\n",
        "\n",
        "svr_goalie = SVR(gamma='scale')\n",
        "svr_goalie.fit(x_train, y_train)\n",
        "y_predict = svr_goalie.predict(x_test)\n",
        "mse = mean_squared_error(y_test, y_predict)\n",
        "print(mse)\n",
        "\n",
        "x_train, x_test, y_train, y_test = train_test_split(player, player_growth, test_size=0.2, random_state=10)\n",
        "\n",
        "svr_player = SVR(gamma='scale')\n",
        "svr_player.fit(x_train, y_train)\n",
        "y_predict = svr_player.predict(x_test)\n",
        "mse = mean_squared_error(y_test, y_predict)\n",
        "print(mse)"
      ],
      "execution_count": 0,
      "outputs": [
        {
          "output_type": "stream",
          "text": [
            "4.756689449786852\n"
          ],
          "name": "stdout"
        }
      ]
    },
    {
      "cell_type": "markdown",
      "metadata": {
        "id": "kFNkVpE3Pjoq",
        "colab_type": "text"
      },
      "source": [
        "Random Forest Regressor With Pruning to see if we overfitted our features."
      ]
    },
    {
      "cell_type": "code",
      "metadata": {
        "id": "MMXr-NwJPguy",
        "colab_type": "code",
        "colab": {}
      },
      "source": [
        "from sklearn.metrics import mean_squared_error\n",
        "from math import sqrt\n",
        "from sklearn.model_selection import train_test_split\n",
        "from sklearn.ensemble import RandomForestRegressor\n",
        "\n",
        "x_train, x_test, y_train, y_test = train_test_split(goalie, goalie_growth, test_size=0.2, random_state=10)\n",
        "\n",
        "forest_goalie = RandomForestRegressor(n_estimators = 100, max_depth = 50)\n",
        "forest_goalie.fit(x_train, y_train)\n",
        "y_predict = forest_goalie.predict(x_test)\n",
        "mse = mean_squared_error(y_test, y_predict)\n",
        "print(mse)\n",
        "\n",
        "x_train, x_test, y_train, y_test = train_test_split(player, player_growth, test_size=0.2, random_state=10)\n",
        "\n",
        "forest_player = RandomForestRegressor(n_estimators = 100, max_depth = 50)\n",
        "forest_player.fit(x_train, y_train)\n",
        "y_predict = forest_player.predict(x_test)\n",
        "mse = mean_squared_error(y_test, y_predict)\n",
        "print(mse)"
      ],
      "execution_count": 0,
      "outputs": []
    }
  ]
}